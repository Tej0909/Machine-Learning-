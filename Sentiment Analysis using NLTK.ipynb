{
 "cells": [
  {
   "cell_type": "code",
   "execution_count": 4,
   "metadata": {},
   "outputs": [
    {
     "name": "stderr",
     "output_type": "stream",
     "text": [
      "[nltk_data] Downloading package vader_lexicon to\n",
      "[nltk_data]     C:\\Users\\91709\\AppData\\Roaming\\nltk_data...\n"
     ]
    },
    {
     "data": {
      "text/plain": [
       "True"
      ]
     },
     "execution_count": 4,
     "metadata": {},
     "output_type": "execute_result"
    }
   ],
   "source": [
    "import nltk\n",
    "from nltk.sentiment.vader import SentimentIntensityAnalyzer\n",
    "nltk.download('vader_lexicon')"
   ]
  },
  {
   "cell_type": "code",
   "execution_count": 5,
   "metadata": {},
   "outputs": [
    {
     "name": "stdout",
     "output_type": "stream",
     "text": [
      "Great Place to be when you are in bangalore.\n",
      "neg: 0.0,\n",
      "neu: 0.661,\n",
      "pos: 0.339,\n",
      "compound: 0.6249,\n",
      "\n",
      "The place was being renovated when i visited so the seating was limited.\n",
      "neg: 0.147,\n",
      "neu: 0.853,\n",
      "pos: 0.0,\n",
      "compound: -0.2263,\n",
      "\n",
      "Loved the ambience,Loved the food.\n",
      "neg: 0.0,\n",
      "neu: 0.506,\n",
      "pos: 0.494,\n",
      "compound: 0.5994,\n",
      "\n",
      "The food is delicious but ot over the top.\n",
      "neg: 0.0,\n",
      "neu: 0.606,\n",
      "pos: 0.394,\n",
      "compound: 0.5499,\n",
      "\n",
      "Service -Little Slow,Probably too many people.\n",
      "neg: 0.0,\n",
      "neu: 1.0,\n",
      "pos: 0.0,\n",
      "compound: 0.0,\n",
      "\n",
      "The place is not easy to locate\n",
      "neg: 0.286,\n",
      "neu: 0.714,\n",
      "pos: 0.0,\n",
      "compound: -0.3412,\n",
      "\n",
      "Mushroom Friedrice was tasty\n",
      "neg: 0.0,\n",
      "neu: 1.0,\n",
      "pos: 0.0,\n",
      "compound: 0.0,\n",
      "\n"
     ]
    }
   ],
   "source": [
    "hotel_rev=[\"Great Place to be when you are in bangalore.\",\n",
    "          \"The place was being renovated when i visited so the seating was limited.\",\n",
    "          \"Loved the ambience,Loved the food.\",\n",
    "          \"The food is delicious but ot over the top.\",\n",
    "          \"Service -Little Slow,Probably too many people.\",\n",
    "          \"The place is not easy to locate\",\n",
    "          \"Mushroom Friedrice was tasty\"]\n",
    "\n",
    "sid=SentimentIntensityAnalyzer()\n",
    "for sentence in hotel_rev:\n",
    "    print(sentence)\n",
    "    ss=sid.polarity_scores(sentence)\n",
    "    for k in ss:\n",
    "        print('{0}: {1},'.format(k,ss[k],end=''))\n",
    "    print()"
   ]
  },
  {
   "cell_type": "code",
   "execution_count": null,
   "metadata": {},
   "outputs": [],
   "source": []
  }
 ],
 "metadata": {
  "kernelspec": {
   "display_name": "Python 3",
   "language": "python",
   "name": "python3"
  },
  "language_info": {
   "codemirror_mode": {
    "name": "ipython",
    "version": 3
   },
   "file_extension": ".py",
   "mimetype": "text/x-python",
   "name": "python",
   "nbconvert_exporter": "python",
   "pygments_lexer": "ipython3",
   "version": "3.7.3"
  }
 },
 "nbformat": 4,
 "nbformat_minor": 2
}
